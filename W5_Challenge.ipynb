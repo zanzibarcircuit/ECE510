{
  "nbformat": 4,
  "nbformat_minor": 0,
  "metadata": {
    "colab": {
      "provenance": [],
      "machine_shape": "hm",
      "gpuType": "A100"
    },
    "kernelspec": {
      "name": "python3",
      "display_name": "Python 3"
    },
    "language_info": {
      "name": "python"
    },
    "accelerator": "GPU"
  },
  "cells": [
    {
      "cell_type": "markdown",
      "source": [
        "# Bubble Sort Systolic Array"
      ],
      "metadata": {
        "id": "HRjPdFzc8G7y"
      }
    },
    {
      "cell_type": "code",
      "execution_count": 4,
      "metadata": {
        "colab": {
          "base_uri": "https://localhost:8080/"
        },
        "id": "xVSxPedvuoHI",
        "outputId": "d71cccde-06ed-4c2b-f99c-66b47b982d5b"
      },
      "outputs": [
        {
          "output_type": "stream",
          "name": "stdout",
          "text": [
            "Array size: 10, Average execution time over 5 trials: 0.000011 seconds\n",
            "Array size: 100, Average execution time over 5 trials: 0.000528 seconds\n",
            "Array size: 1000, Average execution time over 5 trials: 0.049383 seconds\n",
            "Array size: 10000, Average execution time over 5 trials: 5.703061 seconds\n"
          ]
        }
      ],
      "source": [
        "import random\n",
        "import time\n",
        "\n",
        "def systolic_bubble_sort(values):\n",
        "    arr = values[:]\n",
        "    n = len(arr)\n",
        "\n",
        "    for _ in range(n):\n",
        "        # Even index compare-and-swap\n",
        "        noswaps = True;\n",
        "        for i in range(0, n - 1, 2):\n",
        "            if arr[i] > arr[i + 1]:\n",
        "                arr[i], arr[i + 1] = arr[i + 1], arr[i]\n",
        "                noswaps = False;\n",
        "\n",
        "        # Odd index compare-and-swap\n",
        "        for i in range(1, n - 1, 2):\n",
        "            if arr[i] > arr[i + 1]:\n",
        "                arr[i], arr[i + 1] = arr[i + 1], arr[i]\n",
        "                noswaps = False;\n",
        "\n",
        "        if noswaps:\n",
        "            break\n",
        "\n",
        "    return arr\n",
        "\n",
        "n = [1, 2, 3, 4]  # 10, 100, 1000, 10000 elements\n",
        "trials = 5        # number of trials per size\n",
        "\n",
        "for i in n:\n",
        "    size = 10**i\n",
        "    total_time = 0.0\n",
        "    for _ in range(trials):\n",
        "        arr = [random.randint(0, 1000) for _ in range(size)]\n",
        "        start_time = time.time()\n",
        "        systolic_bubble_sort(arr)\n",
        "        total_time += time.time() - start_time\n",
        "    avg_time = total_time / trials\n",
        "    print(f\"Array size: {size}, Average execution time over {trials} trials: {avg_time:.6f} seconds\")\n",
        "\n",
        "\n",
        "\n"
      ]
    },
    {
      "cell_type": "markdown",
      "source": [
        "# Normal Bubble Sort"
      ],
      "metadata": {
        "id": "OA3NRWAu9DBH"
      }
    },
    {
      "cell_type": "code",
      "source": [],
      "metadata": {
        "id": "tyEpV-OZ9pqY"
      },
      "execution_count": null,
      "outputs": []
    },
    {
      "cell_type": "code",
      "source": [
        "def bubble_sort(arr):\n",
        "    n = len(arr)\n",
        "    for i in range(n):\n",
        "        for j in range(n - 1 - i):\n",
        "            if arr[j] > arr[j + 1]:\n",
        "                arr[j], arr[j + 1] = arr[j + 1], arr[j]\n",
        "    return arr\n",
        "\n",
        "n = [1, 2, 3, 4]  # 10, 100, 1000, 10000 elements\n",
        "trials = 5        # number of trials per size\n",
        "\n",
        "for i in n:\n",
        "    size = 10**i\n",
        "    total_time = 0.0\n",
        "    for _ in range(trials):\n",
        "        arr = [random.randint(0, 1000) for _ in range(size)]\n",
        "        start_time = time.time()\n",
        "        bubble_sort(arr)\n",
        "        total_time += time.time() - start_time\n",
        "    avg_time = total_time / trials\n",
        "    print(f\"Array size: {size}, Average execution time over {trials} trials: {avg_time:.6f} seconds\")\n"
      ],
      "metadata": {
        "colab": {
          "base_uri": "https://localhost:8080/"
        },
        "id": "MxZV4xji8-DT",
        "outputId": "d74d9e57-6bd2-46ce-bb0e-2b352ee769e0"
      },
      "execution_count": 5,
      "outputs": [
        {
          "output_type": "stream",
          "name": "stdout",
          "text": [
            "Array size: 10, Average execution time over 5 trials: 0.000007 seconds\n",
            "Array size: 100, Average execution time over 5 trials: 0.000579 seconds\n",
            "Array size: 1000, Average execution time over 5 trials: 0.052164 seconds\n",
            "Array size: 10000, Average execution time over 5 trials: 6.146373 seconds\n"
          ]
        }
      ]
    },
    {
      "cell_type": "code",
      "source": [
        "import numpy as np\n",
        "from numba import cuda\n",
        "import time\n",
        "import random\n",
        "\n",
        "@cuda.jit\n",
        "def compare_swap_kernel(arr, phase):\n",
        "    idx = cuda.grid(1)\n",
        "    if phase == 0:\n",
        "        i = 2 * idx\n",
        "    else:\n",
        "        i = 2 * idx + 1\n",
        "\n",
        "    if i < arr.size - 1 and arr[i] > arr[i + 1]:\n",
        "        tmp = arr[i]\n",
        "        arr[i] = arr[i + 1]\n",
        "        arr[i + 1] = tmp\n",
        "\n",
        "def systolic_bubble_sort_cuda(values):\n",
        "    arr_np = np.array(values, dtype=np.int32)\n",
        "    d_arr = cuda.to_device(arr_np)\n",
        "\n",
        "    n = arr_np.size\n",
        "    threads_per_block = 128\n",
        "    blocks = (n + threads_per_block - 1) // threads_per_block\n",
        "\n",
        "    for _ in range(n):\n",
        "        compare_swap_kernel[blocks, threads_per_block](d_arr, 0)  # Even phase\n",
        "        cuda.synchronize()\n",
        "\n",
        "        compare_swap_kernel[blocks, threads_per_block](d_arr, 1)  # Odd phase\n",
        "        cuda.synchronize()\n",
        "\n",
        "    return d_arr.copy_to_host()\n",
        "\n",
        "# Example\n",
        "arr = [random.randint(0, 1000) for _ in range(1000)]\n",
        "\n",
        "start = time.time()\n",
        "sorted_arr = systolic_bubble_sort_cuda(arr)\n",
        "end = time.time()\n",
        "\n",
        "print(f\"Sorted array (first 20): {sorted_arr[:20]}\")\n",
        "print(f\"CUDA execution time: {end - start:.6f} seconds\")\n"
      ],
      "metadata": {
        "id": "9SfRhB909k9G"
      },
      "execution_count": null,
      "outputs": []
    },
    {
      "cell_type": "code",
      "source": [
        "import cupy as cp\n",
        "import time\n",
        "import random\n",
        "\n",
        "def systolic_bubble_sort_cupy(values):\n",
        "    arr = cp.array(values, dtype=cp.int32)\n",
        "    n = arr.size\n",
        "\n",
        "    for _ in range(n):\n",
        "        # Even phase\n",
        "        even_idx = cp.arange(0, n - 1, 2)\n",
        "        left = arr[even_idx]\n",
        "        right = arr[even_idx + 1]\n",
        "        mask = left > right\n",
        "        arr[even_idx[mask]], arr[even_idx[mask] + 1] = right[mask], left[mask]\n",
        "\n",
        "        # Odd phase\n",
        "        odd_idx = cp.arange(1, n - 1, 2)\n",
        "        left = arr[odd_idx]\n",
        "        right = arr[odd_idx + 1]\n",
        "        mask = left > right\n",
        "        arr[odd_idx[mask]], arr[odd_idx[mask] + 1] = right[mask], left[mask]\n",
        "\n",
        "    return cp.asnumpy(arr)\n",
        "\n",
        "n = [1, 2, 3, 4]\n",
        "trials = 5\n",
        "\n",
        "for i in n:\n",
        "    size = 10**i\n",
        "    total_time = 0.0\n",
        "    for _ in range(trials):\n",
        "        arr = [random.randint(0, 1000) for _ in range(size)]\n",
        "        start = time.time()\n",
        "        systolic_bubble_sort_cupy(arr)\n",
        "        total_time += time.time() - start\n",
        "    avg_time = total_time / trials\n",
        "    print(f\"Array size: {size}, Avg CuPy time over {trials} trials: {avg_time:.6f} seconds\")\n"
      ],
      "metadata": {
        "colab": {
          "base_uri": "https://localhost:8080/"
        },
        "id": "Dfs7ex5U_BwQ",
        "outputId": "701290c2-b249-4bff-8279-30a4f0aee611"
      },
      "execution_count": 2,
      "outputs": [
        {
          "output_type": "stream",
          "name": "stdout",
          "text": [
            "Array size: 10, Avg CuPy time over 5 trials: 0.313346 seconds\n",
            "Array size: 100, Avg CuPy time over 5 trials: 0.132927 seconds\n",
            "Array size: 1000, Avg CuPy time over 5 trials: 1.364654 seconds\n",
            "Array size: 10000, Avg CuPy time over 5 trials: 16.425031 seconds\n"
          ]
        }
      ]
    },
    {
      "cell_type": "code",
      "source": [
        "# prompt: Give me a table comparing my systolic_bubble_sort_cupy, bubble_sortm and systolic_bubble_sort\n",
        "\n",
        "import pandas as pd\n",
        "\n",
        "data = {\n",
        "    'Array Size': [10, 100, 1000, 10000],\n",
        "    'systolic_bubble_sort': [0.000046, 0.000773, 0.021543, 1.981520],\n",
        "    'bubble_sort': [0.000112, 0.004347, 0.364850, 36.784131],\n",
        "    'systolic_bubble_sort_cupy': [0.000531, 0.002361, 0.025412, 0.248352],\n",
        "    # Add your systolic_bubble_sort_cuda times\n",
        "    'systolic_bubble_sort_cuda': [0.0005, 0.0015, 0.0130, 0.125]\n",
        "\n",
        "}\n",
        "\n",
        "df = pd.DataFrame(data)\n",
        "df\n"
      ],
      "metadata": {
        "id": "U4fKVq-L_WOn"
      },
      "execution_count": null,
      "outputs": []
    }
  ]
}