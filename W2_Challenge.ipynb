{
  "nbformat": 4,
  "nbformat_minor": 0,
  "metadata": {
    "colab": {
      "provenance": []
    },
    "kernelspec": {
      "name": "python3",
      "display_name": "Python 3"
    },
    "language_info": {
      "name": "python"
    }
  },
  "cells": [
    {
      "cell_type": "code",
      "execution_count": 22,
      "metadata": {
        "colab": {
          "base_uri": "https://localhost:8080/"
        },
        "id": "nmRkHmHPa1Zu",
        "outputId": "7cb90d0f-be4b-4131-a2e5-a0d3c2d0e9a2"
      },
      "outputs": [
        {
          "output_type": "stream",
          "name": "stdout",
          "text": [
            "Epoch: 0, Total Error: -0.009471390761266019\n",
            "Epoch: 1000, Total Error: 0.029270381976639573\n",
            "Epoch: 2000, Total Error: 0.015054757409414962\n",
            "Epoch: 3000, Total Error: 0.010091383891405774\n",
            "Epoch: 4000, Total Error: 0.007578682084202065\n",
            "Epoch: 5000, Total Error: 0.006063984370099038\n",
            "Epoch: 6000, Total Error: 0.005052184017732634\n",
            "Epoch: 7000, Total Error: 0.0043288717357032585\n",
            "Epoch: 8000, Total Error: 0.003786238356900907\n",
            "Epoch: 9000, Total Error: 0.0033641931564597372\n",
            "0 NAND 0 = 1 (raw: 1.0000)\n",
            "0 NAND 1 = 1 (raw: 0.9950)\n",
            "1 NAND 0 = 1 (raw: 0.9950)\n",
            "1 NAND 1 = 0 (raw: 0.0070)\n"
          ]
        }
      ],
      "source": [
        "import math\n",
        "import random\n",
        "\n",
        "def sigmoid(z):\n",
        "    return 1/(1 + math.exp(-z))\n",
        "\n",
        "def sigmoid_prime(output):\n",
        "    return output * (1 - output)\n",
        "\n",
        "def inference(x1, x2, w1, w2, b):\n",
        "    return sigmoid(x1 * w1 + x2 * w2 + b)\n",
        "\n",
        "nand_table = [\n",
        "    (0, 0, 1),\n",
        "    (0, 1, 1),\n",
        "    (1, 0, 1),\n",
        "    (1, 1, 0)\n",
        "]\n",
        "\n",
        "w1 = random.uniform(-1, 1)\n",
        "w2 = random.uniform(-1, 1)\n",
        "b = random.uniform(-1, 1)\n",
        "\n",
        "learning_rate = 0.1\n",
        "epochs = 10000\n",
        "\n",
        "for epoch in range(epochs):\n",
        "    total_error = 0\n",
        "    for x1, x2, y in nand_table:\n",
        "        output = inference(x1, x2, w1, w2, b)\n",
        "        error = y - output\n",
        "        total_error += error\n",
        "\n",
        "        delta = error * sigmoid_prime(output)\n",
        "        w1 += learning_rate * error * x1\n",
        "        w2 += learning_rate * error * x2\n",
        "        b += learning_rate * error\n",
        "\n",
        "    if epoch % 1000 == 0:\n",
        "        print(f'Epoch: {epoch}, Total Error: {total_error}')\n",
        "\n",
        "for x1, x2, y in nand_table:\n",
        "    output = inference(x1, x2, w1, w2, b)\n",
        "    print(f\"{x1} NAND {x2} = {round(output)} (raw: {output:.4f})\")\n"
      ]
    },
    {
      "cell_type": "code",
      "source": [
        "nand_table = [\n",
        "    (0, 0, 1),\n",
        "    (0, 1, 0),\n",
        "    (1, 0, 0),\n",
        "    (1, 1, 1)\n",
        "]\n",
        "\n",
        "w1 = random.uniform(-1, 1)\n",
        "w2 = random.uniform(-1, 1)\n",
        "b = random.uniform(-1, 1)\n",
        "\n",
        "learning_rate = 0.1\n",
        "epochs = 10000\n",
        "\n",
        "for epoch in range(epochs):\n",
        "    total_error = 0\n",
        "    for x1, x2, y in nand_table:\n",
        "        output = inference(x1, x2, w1, w2, b)\n",
        "        error = y - output\n",
        "        total_error += error2\n",
        "\n",
        "        delta = error * sigmoid_prime(output)\n",
        "        w1 += learning_rate * error * x1\n",
        "        w2 += learning_rate * error * x2\n",
        "        b += learning_rate * error\n",
        "\n",
        "    if epoch % 1000 == 0:\n",
        "        print(f'Epoch: {epoch}, Total Error: {total_error}')\n",
        "\n",
        "for x1, x2, y in nand_table:\n",
        "    output = inference(x1, x2, w1, w2, b)\n",
        "    print(f\"{x1} NAND {x2} = {round(output)} (raw: {output:.4f})\")\n"
      ],
      "metadata": {
        "colab": {
          "base_uri": "https://localhost:8080/"
        },
        "id": "4Scm7sKcfhOf",
        "outputId": "1a5c0b38-1884-41df-b051-228f8cf2a36c"
      },
      "execution_count": 20,
      "outputs": [
        {
          "output_type": "stream",
          "name": "stdout",
          "text": [
            "Epoch: 0, Total Error: 1.1433136746601436\n",
            "Epoch: 1000, Total Error: 1.0519276942900175\n",
            "Epoch: 2000, Total Error: 1.0519276944175484\n",
            "Epoch: 3000, Total Error: 1.0519276944175486\n",
            "Epoch: 4000, Total Error: 1.0519276944175486\n",
            "Epoch: 5000, Total Error: 1.0519276944175486\n",
            "Epoch: 6000, Total Error: 1.0519276944175486\n",
            "Epoch: 7000, Total Error: 1.0519276944175486\n",
            "Epoch: 8000, Total Error: 1.0519276944175486\n",
            "Epoch: 9000, Total Error: 1.0519276944175486\n",
            "0 NAND 0 = 0 (raw: 0.4872)\n",
            "0 NAND 1 = 0 (raw: 0.5000)\n",
            "1 NAND 0 = 1 (raw: 0.5128)\n",
            "1 NAND 1 = 1 (raw: 0.5256)\n"
          ]
        }
      ]
    },
    {
      "cell_type": "code",
      "source": [],
      "metadata": {
        "id": "sfimsoCQfobY"
      },
      "execution_count": null,
      "outputs": []
    }
  ]
}